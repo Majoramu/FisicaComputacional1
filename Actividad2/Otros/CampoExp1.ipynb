{
 "cells": [
  {
   "cell_type": "code",
   "execution_count": 2,
   "metadata": {},
   "outputs": [],
   "source": [
    "# Cargar las bibliotecas necesarias\n",
    "import pandas as pd\n",
    "import numpy as np"
   ]
  },
  {
   "cell_type": "code",
   "execution_count": 3,
   "metadata": {},
   "outputs": [
    {
     "data": {
      "text/plain": [
       "(        Fecha Precip Evap  Tmax  Tmin\n",
       " 0  14/10/1981      0   NA    28    NA\n",
       " 1  15/10/1981      0  7.3    26    14\n",
       " 2  16/10/1981      0  7.6    28  12.5\n",
       " 3  17/10/1981      0  8.1    28    10\n",
       " 4  18/10/1981      0  1.2  30.5   9.5,\n",
       "            Fecha Precip Evap  Tmax  Tmin\n",
       " 5439  26/09/1998      0   NA  35.5    NA\n",
       " 5440  27/09/1998      0   NA  37.5  16.5\n",
       " 5441  28/09/1998      0   NA  38.5    20\n",
       " 5442  29/09/1998      0   NA  38.5    20\n",
       " 5443  30/09/1998      0   NA  37.5    20)"
      ]
     },
     "execution_count": 3,
     "metadata": {},
     "output_type": "execute_result"
    }
   ],
   "source": [
    "# Leer el archivo de datos descargado. Estación en Campo Experimental UniSon.\n",
    "# Datos separados por espacios, ignorando los primeros 20 renglones y el último renglón.\n",
    "# Se reasignan nombres a las columnas de la tabla de datos (Sin espacios, ni caracteres especiales). \n",
    "df0 = pd.read_csv(\"26174.txt\", sep=\"\\s+\", skiprows=20, skipfooter=1, engine='python', \n",
    "                  names=['Fecha', 'Precip', 'Evap', 'Tmax', 'Tmin'])\n",
    "# Reemplazar  los Nulos con NA (datos no disponibles)\n",
    "df0 = df0.replace('Nulo','NA')\n",
    "# Verificar\n",
    "df0.head(), df0.tail()"
   ]
  },
  {
   "cell_type": "code",
   "execution_count": 4,
   "metadata": {},
   "outputs": [
    {
     "data": {
      "text/plain": [
       "Fecha     object\n",
       "Precip    object\n",
       "Evap      object\n",
       "Tmax      object\n",
       "Tmin      object\n",
       "dtype: object"
      ]
     },
     "execution_count": 4,
     "metadata": {},
     "output_type": "execute_result"
    }
   ],
   "source": [
    "# Ver que tipos de variables se han reconocido (Tipo Object no está definido)\n",
    "df0.dtypes"
   ]
  },
  {
   "cell_type": "code",
   "execution_count": 5,
   "metadata": {},
   "outputs": [
    {
     "data": {
      "text/plain": [
       "Precip           float64\n",
       "Evap             float64\n",
       "Tmax             float64\n",
       "Tmin             float64\n",
       "NFecha    datetime64[ns]\n",
       "dtype: object"
      ]
     },
     "execution_count": 5,
     "metadata": {},
     "output_type": "execute_result"
    }
   ],
   "source": [
    "# Convertir Fecha a nueva variable tipo fecha NFecha (datetime64)\n",
    "df0['NFecha'] =  pd.to_datetime(df0['Fecha'], format='%d/%m/%Y')\n",
    "# Convertir las otras variables a flotantes (float64)\n",
    "df0[['Precip','Evap','Tmax','Tmin']] = df0[['Precip','Evap','Tmax','Tmin']] \\\n",
    ".apply(pd.to_numeric, errors='coerce')\n",
    "# Eliminar columna Fecha que ya no se utilzará\n",
    "df0 = df0.drop('Fecha', 1)\n",
    "# Verificar\n",
    "df0.dtypes"
   ]
  },
  {
   "cell_type": "markdown",
   "metadata": {},
   "source": [
    "** Resumen de los datos: ** <br>\n",
    "\n"
   ]
  },
  {
   "cell_type": "code",
   "execution_count": 6,
   "metadata": {},
   "outputs": [
    {
     "data": {
      "text/html": [
       "<div>\n",
       "<style scoped>\n",
       "    .dataframe tbody tr th:only-of-type {\n",
       "        vertical-align: middle;\n",
       "    }\n",
       "\n",
       "    .dataframe tbody tr th {\n",
       "        vertical-align: top;\n",
       "    }\n",
       "\n",
       "    .dataframe thead th {\n",
       "        text-align: right;\n",
       "    }\n",
       "</style>\n",
       "<table border=\"1\" class=\"dataframe\">\n",
       "  <thead>\n",
       "    <tr style=\"text-align: right;\">\n",
       "      <th></th>\n",
       "      <th>Precip</th>\n",
       "      <th>Evap</th>\n",
       "      <th>Tmax</th>\n",
       "      <th>Tmin</th>\n",
       "    </tr>\n",
       "  </thead>\n",
       "  <tbody>\n",
       "    <tr>\n",
       "      <th>count</th>\n",
       "      <td>5182.000000</td>\n",
       "      <td>3104.000000</td>\n",
       "      <td>4974.000000</td>\n",
       "      <td>4959.000000</td>\n",
       "    </tr>\n",
       "    <tr>\n",
       "      <th>mean</th>\n",
       "      <td>0.972096</td>\n",
       "      <td>6.432571</td>\n",
       "      <td>32.110032</td>\n",
       "      <td>13.363783</td>\n",
       "    </tr>\n",
       "    <tr>\n",
       "      <th>std</th>\n",
       "      <td>5.666403</td>\n",
       "      <td>3.219988</td>\n",
       "      <td>6.949653</td>\n",
       "      <td>7.035267</td>\n",
       "    </tr>\n",
       "    <tr>\n",
       "      <th>min</th>\n",
       "      <td>0.000000</td>\n",
       "      <td>0.100000</td>\n",
       "      <td>0.000000</td>\n",
       "      <td>-3.500000</td>\n",
       "    </tr>\n",
       "    <tr>\n",
       "      <th>25%</th>\n",
       "      <td>0.000000</td>\n",
       "      <td>3.800000</td>\n",
       "      <td>26.625000</td>\n",
       "      <td>7.500000</td>\n",
       "    </tr>\n",
       "    <tr>\n",
       "      <th>50%</th>\n",
       "      <td>0.000000</td>\n",
       "      <td>6.100000</td>\n",
       "      <td>33.000000</td>\n",
       "      <td>12.000000</td>\n",
       "    </tr>\n",
       "    <tr>\n",
       "      <th>75%</th>\n",
       "      <td>0.000000</td>\n",
       "      <td>8.800000</td>\n",
       "      <td>37.500000</td>\n",
       "      <td>19.500000</td>\n",
       "    </tr>\n",
       "    <tr>\n",
       "      <th>max</th>\n",
       "      <td>119.300000</td>\n",
       "      <td>16.500000</td>\n",
       "      <td>49.000000</td>\n",
       "      <td>29.000000</td>\n",
       "    </tr>\n",
       "  </tbody>\n",
       "</table>\n",
       "</div>"
      ],
      "text/plain": [
       "            Precip         Evap         Tmax         Tmin\n",
       "count  5182.000000  3104.000000  4974.000000  4959.000000\n",
       "mean      0.972096     6.432571    32.110032    13.363783\n",
       "std       5.666403     3.219988     6.949653     7.035267\n",
       "min       0.000000     0.100000     0.000000    -3.500000\n",
       "25%       0.000000     3.800000    26.625000     7.500000\n",
       "50%       0.000000     6.100000    33.000000    12.000000\n",
       "75%       0.000000     8.800000    37.500000    19.500000\n",
       "max     119.300000    16.500000    49.000000    29.000000"
      ]
     },
     "execution_count": 6,
     "metadata": {},
     "output_type": "execute_result"
    }
   ],
   "source": [
    "# Explorar un resumen de los datos\n",
    "df0.describe()"
   ]
  },
  {
   "cell_type": "code",
   "execution_count": 7,
   "metadata": {},
   "outputs": [
    {
     "data": {
      "text/plain": [
       "(   Precip  Evap  Tmax  Tmin     NFecha   Año  Mes\n",
       " 0     0.0   NaN  28.0   NaN 1981-10-14  1981   10\n",
       " 1     0.0   7.3  26.0  14.0 1981-10-15  1981   10\n",
       " 2     0.0   7.6  28.0  12.5 1981-10-16  1981   10\n",
       " 3     0.0   8.1  28.0  10.0 1981-10-17  1981   10\n",
       " 4     0.0   1.2  30.5   9.5 1981-10-18  1981   10,\n",
       "       Precip  Evap  Tmax  Tmin     NFecha   Año  Mes\n",
       " 5439     0.0   NaN  35.5   NaN 1998-09-26  1998    9\n",
       " 5440     0.0   NaN  37.5  16.5 1998-09-27  1998    9\n",
       " 5441     0.0   NaN  38.5  20.0 1998-09-28  1998    9\n",
       " 5442     0.0   NaN  38.5  20.0 1998-09-29  1998    9\n",
       " 5443     0.0   NaN  37.5  20.0 1998-09-30  1998    9)"
      ]
     },
     "execution_count": 7,
     "metadata": {},
     "output_type": "execute_result"
    }
   ],
   "source": [
    "# Crear columnas con Año y Mes extraídos de la fecha \n",
    "df0['Año'] = df0['NFecha'].dt.year\n",
    "df0['Mes'] = df0['NFecha'].dt.month\n",
    "df0.head(),df0.tail()"
   ]
  },
  {
   "cell_type": "code",
   "execution_count": 8,
   "metadata": {},
   "outputs": [
    {
     "name": "stdout",
     "output_type": "stream",
     "text": [
      "18 años de datos\n"
     ]
    }
   ],
   "source": [
    "# Número de años distintos df0['Año'].unique(),\n",
    "NumA = len(df0['Año'].unique())\n",
    "print(NumA, \"años de datos\")"
   ]
  },
  {
   "cell_type": "code",
   "execution_count": 9,
   "metadata": {},
   "outputs": [
    {
     "name": "stdout",
     "output_type": "stream",
     "text": [
      "Enero: 15.4388888889 mm\n",
      "Febrero: 18.5222222222 mm\n"
     ]
    }
   ],
   "source": [
    "# Calcular la precipitación promedio de un mes (Sumar Precip y dividir entre número de Años)\n",
    "# Mes a mes ... a pie\n",
    "PrecipEne = df0[(df0['Mes'] == 1)]['Precip'].sum()/NumA\n",
    "PrecipFeb = df0[(df0['Mes'] == 2)]['Precip'].sum()/NumA\n",
    "print(\"Enero:\",PrecipEne, \"mm\")\n",
    "print(\"Febrero:\",PrecipFeb, \"mm\")"
   ]
  },
  {
   "cell_type": "code",
   "execution_count": 11,
   "metadata": {},
   "outputs": [
    {
     "name": "stdout",
     "output_type": "stream",
     "text": [
      "Mes 1 : 15.44 mm , Acumulada: 15.44 mm\n",
      "Mes 2 : 18.52 mm , Acumulada: 33.96 mm\n",
      "Mes 3 : 4.98 mm , Acumulada: 38.94 mm\n",
      "Mes 4 : 2.43 mm , Acumulada: 41.37 mm\n",
      "Mes 5 : 3.75 mm , Acumulada: 45.12 mm\n",
      "Mes 6 : 1.88 mm , Acumulada: 47.0 mm\n",
      "Mes 7 : 51.84 mm , Acumulada: 98.84 mm\n",
      "Mes 8 : 78.32 mm , Acumulada: 177.16 mm\n",
      "Mes 9 : 42.91 mm , Acumulada: 220.07 mm\n",
      "Mes 10 : 6.91 mm , Acumulada: 226.98 mm\n",
      "Mes 11 : 18.04 mm , Acumulada: 245.02 mm\n",
      "Mes 12 : 34.83 mm , Acumulada: 279.86 mm\n"
     ]
    }
   ],
   "source": [
    "# Para encontrar los meses más lluviosos\n",
    "# O hacer un loop para recorrer cada mes, recordando que Python cuenta desde 0,1,2,...\n",
    "# Calcular la suma de precipitación y dividir entre el número de años\n",
    "total=0.0\n",
    "for i in range(12):\n",
    "    PrecipMensual = df0['Precip'][df0['Mes']==[i+1]].sum()/NumA\n",
    "    total=total+PrecipMensual\n",
    "    print(\"Mes\", i+1,\":\", np.round(PrecipMensual, decimals=2), \"mm\", \", Acumulada:\", \n",
    "          np.round(total, decimals=2), \"mm\")"
   ]
  },
  {
   "cell_type": "markdown",
   "metadata": {},
   "source": [
    "**Meses más lluviosos:**\n",
    "Julio 51.84mm, Agosto 78.32mm y Septiembre 42.91mm"
   ]
  },
  {
   "cell_type": "code",
   "execution_count": 12,
   "metadata": {},
   "outputs": [
    {
     "name": "stdout",
     "output_type": "stream",
     "text": [
      "Tmax promedio Ene: 24.19 ºC\n",
      "Tmax promedio Feb: 25.76 ºC\n"
     ]
    }
   ],
   "source": [
    "# Calcular la Tmax promedio de cada mes. Sumar las Tmax y \n",
    "# dividir entre el número total de datos válidos para ese mes determinado (función .count())\n",
    "TmaxPromEne = df0[df0['Mes']==1]['Tmax'].sum()/df0[df0['Mes'] ==1]['Tmax'].count()\n",
    "TmaxPromFeb = df0[df0['Mes']==2]['Tmax'].sum()/df0[df0['Mes'] ==2]['Tmax'].count()\n",
    "print(\"Tmax promedio Ene:\", np.round(TmaxPromEne, decimals=2), \"ºC\")\n",
    "print(\"Tmax promedio Feb:\", np.round(TmaxPromFeb, decimals=2), \"ºC\")"
   ]
  },
  {
   "cell_type": "code",
   "execution_count": 13,
   "metadata": {},
   "outputs": [
    {
     "name": "stdout",
     "output_type": "stream",
     "text": [
      "Tmin Mes 1 : 5.98 ºC\n",
      "Tmin Mes 2 : 7.1 ºC\n",
      "Tmin Mes 3 : 8.47 ºC\n",
      "Tmin Mes 4 : 11.16 ºC\n",
      "Tmin Mes 5 : 14.28 ºC\n",
      "Tmin Mes 6 : 18.72 ºC\n",
      "Tmin Mes 7 : 22.88 ºC\n",
      "Tmin Mes 8 : 23.52 ºC\n",
      "Tmin Mes 9 : 21.7 ºC\n",
      "Tmin Mes 10 : 15.51 ºC\n",
      "Tmin Mes 11 : 9.29 ºC\n",
      "Tmin Mes 12 : 6.38 ºC\n",
      " \n",
      "Tmax Mes 1 : 24.19 ºC\n",
      "Tmax Mes 2 : 25.76 ºC\n",
      "Tmax Mes 3 : 28.59 ºC\n",
      "Tmax Mes 4 : 32.62 ºC\n",
      "Tmax Mes 5 : 35.92 ºC\n",
      "Tmax Mes 6 : 39.74 ºC\n",
      "Tmax Mes 7 : 38.86 ºC\n",
      "Tmax Mes 8 : 38.51 ºC\n",
      "Tmax Mes 9 : 37.79 ºC\n",
      "Tmax Mes 10 : 34.64 ºC\n",
      "Tmax Mes 11 : 28.78 ºC\n",
      "Tmax Mes 12 : 23.85 ºC\n"
     ]
    }
   ],
   "source": [
    "# Calcular la temperatura promedio Tmin (meses fríos) y Tmax (meses cálidos)\n",
    "\n",
    "for i in range(12):\n",
    "    TminPromMensual = df0[df0['Mes']==i+1]['Tmin'].sum()/df0[df0['Mes'] ==i+1]['Tmin'].count()\n",
    "    print(\"Tmin Mes\", i+1,\":\", np.round(TminPromMensual, decimals=2), \"ºC\")\n",
    "  \n",
    "print(\" \")\n",
    "    \n",
    "for i in range(12):\n",
    "    TmaxPromMensual = df0[df0['Mes']==i+1]['Tmax'].sum()/df0[df0['Mes'] ==i+1]['Tmax'].count()\n",
    "    print(\"Tmax Mes\", i+1,\":\", np.round(TmaxPromMensual, decimals=2), \"ºC\")\n"
   ]
  },
  {
   "cell_type": "markdown",
   "metadata": {},
   "source": [
    "**Meses fríos:** Noviembre, Diciembre, Enero, Febrero y Marzo (Tmin < 10ºC) <br>\n",
    "**Meses cálidos:** Mayo, Junio, Julio, Agosto, Septiembre (Tmax > 35ºC)"
   ]
  },
  {
   "cell_type": "code",
   "execution_count": 14,
   "metadata": {},
   "outputs": [
    {
     "name": "stdout",
     "output_type": "stream",
     "text": [
      "Año 1983 : 445.9 mm\n",
      "Año 1984 : 457.2 mm\n",
      "Año 1985 : 261.1 mm\n",
      "Año 1986 : 302.1 mm\n",
      "Año 1987 : 135.6 mm\n",
      "Año 1988 : 287.0 mm\n",
      "Año 1989 : 99.8 mm\n",
      "Año 1990 : 528.2 mm\n",
      "Año 1991 : 422.5 mm\n",
      "Año 1992 : 613.6 mm\n",
      "Año 1993 : 329.9 mm\n",
      "Año 1994 : 458.0 mm\n",
      "Año 1995 : 208.0 mm\n",
      "Año 1996 : 135.1 mm\n",
      "Año 1997 : 123.5 mm\n"
     ]
    }
   ],
   "source": [
    "# Años húmedos y años secos\n",
    "# Años incompletos 1981, 1998 - se excluyen\n",
    "for i in range(1982,1997):\n",
    "    PrecipAnual = df0['Precip'][df0['Año']==[i+1]].sum()\n",
    "    print(\"Año\", i+1,\":\", PrecipAnual, \"mm\")"
   ]
  },
  {
   "cell_type": "code",
   "execution_count": 15,
   "metadata": {},
   "outputs": [
    {
     "name": "stdout",
     "output_type": "stream",
     "text": [
      "Año: 1983 Num Datos 305 ,  0.84 %\n",
      "Año: 1984 Num Datos 338 ,  0.93 %\n",
      "Año: 1985 Num Datos 364 ,  1.0 %\n",
      "Año: 1986 Num Datos 271 ,  0.74 %\n",
      "Año: 1987 Num Datos 356 ,  0.98 %\n",
      "Año: 1988 Num Datos 340 ,  0.93 %\n",
      "Año: 1989 Num Datos 244 ,  0.67 %\n",
      "Año: 1990 Num Datos 299 ,  0.82 %\n",
      "Año: 1991 Num Datos 356 ,  0.98 %\n",
      "Año: 1992 Num Datos 322 ,  0.88 %\n",
      "Año: 1993 Num Datos 304 ,  0.83 %\n",
      "Año: 1994 Num Datos 293 ,  0.8 %\n",
      "Año: 1995 Num Datos 312 ,  0.85 %\n",
      "Año: 1996 Num Datos 252 ,  0.69 %\n",
      "Año: 1997 Num Datos 254 ,  0.7 %\n"
     ]
    }
   ],
   "source": [
    "# Número de datos faltantes por año\n",
    "for i in range(1982,1997):\n",
    "    NumDatos= df0['Precip'][df0['Año']==[i+1]].count()\n",
    "    print(\"Año:\", i+1, \"Num Datos\", NumDatos, \", \", np.round(NumDatos/365.0, decimals=2), \"%\")\n",
    "    "
   ]
  },
  {
   "cell_type": "markdown",
   "metadata": {},
   "source": [
    "**Año más húmedo:** 1992 (613 mm) (Existe sólo el 88% de datos anuales)\n",
    "**Año muy seco:** 1989 (99.8 mm) (Existe sólo el 67% de datos anuales)"
   ]
  },
  {
   "cell_type": "code",
   "execution_count": null,
   "metadata": {},
   "outputs": [],
   "source": []
  }
 ],
 "metadata": {
  "kernelspec": {
   "display_name": "Python 3",
   "language": "python",
   "name": "python3"
  },
  "language_info": {
   "codemirror_mode": {
    "name": "ipython",
    "version": 3
   },
   "file_extension": ".py",
   "mimetype": "text/x-python",
   "name": "python",
   "nbconvert_exporter": "python",
   "pygments_lexer": "ipython3",
   "version": "3.6.3"
  }
 },
 "nbformat": 4,
 "nbformat_minor": 2
}
